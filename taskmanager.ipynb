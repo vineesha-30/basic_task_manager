{
 "cells": [
  {
   "cell_type": "code",
   "execution_count": null,
   "id": "cd9b81da-92d1-448d-a75b-98233f9e1a01",
   "metadata": {},
   "outputs": [
    {
     "name": "stdout",
     "output_type": "stream",
     "text": [
      "\n",
      "Task Manager\n",
      "1. Add Task\n",
      "2. Remove Task\n",
      "3. List Tasks\n",
      "4. Prioritize Task\n",
      "5. Recommend Tasks\n",
      "6. Exit\n"
     ]
    },
    {
     "name": "stdin",
     "output_type": "stream",
     "text": [
      "Enter your choice:  1\n",
      "Enter task description:  reading\n",
      "Enter task priority (default is 1):  1\n"
     ]
    },
    {
     "name": "stdout",
     "output_type": "stream",
     "text": [
      "Task added: reading\n",
      "\n",
      "Task Manager\n",
      "1. Add Task\n",
      "2. Remove Task\n",
      "3. List Tasks\n",
      "4. Prioritize Task\n",
      "5. Recommend Tasks\n",
      "6. Exit\n"
     ]
    },
    {
     "name": "stdin",
     "output_type": "stream",
     "text": [
      "Enter your choice:  1\n",
      "Enter task description:  writing\n",
      "Enter task priority (default is 1):  2\n"
     ]
    },
    {
     "name": "stdout",
     "output_type": "stream",
     "text": [
      "Task added: writing\n",
      "\n",
      "Task Manager\n",
      "1. Add Task\n",
      "2. Remove Task\n",
      "3. List Tasks\n",
      "4. Prioritize Task\n",
      "5. Recommend Tasks\n",
      "6. Exit\n"
     ]
    },
    {
     "name": "stdin",
     "output_type": "stream",
     "text": [
      "Enter your choice:  3\n"
     ]
    },
    {
     "name": "stdout",
     "output_type": "stream",
     "text": [
      "Task: reading, Priority: 1\n",
      "Task: writing, Priority: 2\n",
      "\n",
      "Task Manager\n",
      "1. Add Task\n",
      "2. Remove Task\n",
      "3. List Tasks\n",
      "4. Prioritize Task\n",
      "5. Recommend Tasks\n",
      "6. Exit\n"
     ]
    }
   ],
   "source": [
    "class TaskManager:\n",
    "    def __init__(self):\n",
    "        self.tasks = []\n",
    "\n",
    "    def add_task(self, description, priority=1):\n",
    "        task = {\n",
    "            'description': description,\n",
    "            'priority': priority\n",
    "        }\n",
    "        self.tasks.append(task)\n",
    "        print(f\"Task added: {description}\")\n",
    "\n",
    "    def remove_task(self, description):\n",
    "        for task in self.tasks:\n",
    "            if task['description'] == description:\n",
    "                self.tasks.remove(task)\n",
    "                print(f\"Task removed: {description}\")\n",
    "                return\n",
    "        print(f\"Task not found: {description}\")\n",
    "\n",
    "    def list_tasks(self):\n",
    "        if not self.tasks:\n",
    "            print(\"No tasks available.\")\n",
    "        else:\n",
    "            for task in self.tasks:\n",
    "                print(f\"Task: {task['description']}, Priority: {task['priority']}\")\n",
    "\n",
    "    def prioritize_task(self, description, priority):\n",
    "        for task in self.tasks:\n",
    "            if task['description'] == description:\n",
    "                task['priority'] = priority\n",
    "                print(f\"Task prioritized: {description} with priority {priority}\")\n",
    "                return\n",
    "        print(f\"Task not found: {description}\")\n",
    "\n",
    "    def recommend_tasks(self, keyword):\n",
    "        recommendations = [task for task in self.tasks if keyword.lower() in task['description'].lower()]\n",
    "        if not recommendations:\n",
    "            print(f\"No recommendations found for keyword: {keyword}\")\n",
    "        else:\n",
    "            print(f\"Recommendations for '{keyword}':\")\n",
    "            for task in recommendations:\n",
    "                print(f\"Task: {task['description']}, Priority: {task['priority']}\")\n",
    "\n",
    "\n",
    "def main():\n",
    "    manager = TaskManager()\n",
    "    while True:\n",
    "        print(\"\\nTask Manager\")\n",
    "        print(\"1. Add Task\")\n",
    "        print(\"2. Remove Task\")\n",
    "        print(\"3. List Tasks\")\n",
    "        print(\"4. Prioritize Task\")\n",
    "        print(\"5. Recommend Tasks\")\n",
    "        print(\"6. Exit\")\n",
    "        \n",
    "        choice = input(\"Enter your choice: \")\n",
    "        if choice == '1':\n",
    "            description = input(\"Enter task description: \")\n",
    "            priority = int(input(\"Enter task priority (default is 1): \") or 1)\n",
    "            manager.add_task(description, priority)\n",
    "        elif choice == '2':\n",
    "            description = input(\"Enter task description to remove: \")\n",
    "            manager.remove_task(description)\n",
    "        elif choice == '3':\n",
    "            manager.list_tasks()\n",
    "        elif choice == '4':\n",
    "            description = input(\"Enter task description to prioritize: \")\n",
    "            priority = int(input(\"Enter new priority: \"))\n",
    "            manager.prioritize_task(description, priority)\n",
    "        elif choice == '5':\n",
    "            keyword = input(\"Enter keyword for recommendations: \")\n",
    "            manager.recommend_tasks(keyword)\n",
    "        elif choice == '6':\n",
    "            print(\"Exiting Task Manager.\")\n",
    "            break\n",
    "        else:\n",
    "            print(\"Invalid choice. Please try again.\")\n",
    "\n",
    "if __name__ == \"__main__\":\n",
    "    main()\n"
   ]
  },
  {
   "cell_type": "code",
   "execution_count": null,
   "id": "060188e0-8449-4062-825f-e741e85eefec",
   "metadata": {},
   "outputs": [],
   "source": []
  }
 ],
 "metadata": {
  "kernelspec": {
   "display_name": "Python 3 (ipykernel)",
   "language": "python",
   "name": "python3"
  },
  "language_info": {
   "codemirror_mode": {
    "name": "ipython",
    "version": 3
   },
   "file_extension": ".py",
   "mimetype": "text/x-python",
   "name": "python",
   "nbconvert_exporter": "python",
   "pygments_lexer": "ipython3",
   "version": "3.12.2"
  }
 },
 "nbformat": 4,
 "nbformat_minor": 5
}
